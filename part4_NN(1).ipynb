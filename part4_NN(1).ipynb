{
 "cells": [
  {
   "cell_type": "markdown",
   "metadata": {},
   "source": [
    "Description: Introdução à biblioteca Gensim: redes neurais aplicadas ao processamento de linguagem natural.\n",
    "(https://radimrehurek.com/gensim/)\n",
    "\n",
    "Created by: Leandro A. da Silva (leandro@kognita.com.br)\n",
    "\n",
    "Created at: 19/6/2018\n",
    "\n",
    "Last modification: 19/6/2018\n",
    "\n",
    "<< Código para fins didáticos, apenas >>"
   ]
  },
  {
   "cell_type": "code",
   "execution_count": null,
   "metadata": {
    "collapsed": true
   },
   "outputs": [],
   "source": []
  },
  {
   "cell_type": "code",
   "execution_count": null,
   "metadata": {
    "collapsed": true
   },
   "outputs": [],
   "source": []
  },
  {
   "cell_type": "code",
   "execution_count": 1,
   "metadata": {},
   "outputs": [],
   "source": [
    "\n",
    "import os\n",
    "\n",
    "import time \n",
    "import logging\n",
    "import platform\n",
    "\n",
    "\n",
    "# biblioteca especializada em NLP (https://radimrehurek.com/gensim/), a qual usaremos para treinar nossa rede neural:\n",
    "import gensim\n",
    "\n",
    " \n",
    "#plt.style.use('ggplot')"
   ]
  },
  {
   "cell_type": "code",
   "execution_count": null,
   "metadata": {
    "collapsed": true
   },
   "outputs": [],
   "source": []
  },
  {
   "cell_type": "code",
   "execution_count": null,
   "metadata": {
    "collapsed": true
   },
   "outputs": [],
   "source": []
  },
  {
   "cell_type": "code",
   "execution_count": 2,
   "metadata": {},
   "outputs": [],
   "source": [
    "# esse comando habilita o print do log do sistema dentro do jupyter notebook.\n",
    "logging.basicConfig(format='%(asctime)s : %(levelname)s : %(message)s', level=logging.INFO)"
   ]
  },
  {
   "cell_type": "code",
   "execution_count": null,
   "metadata": {
    "collapsed": true
   },
   "outputs": [],
   "source": []
  },
  {
   "cell_type": "markdown",
   "metadata": {},
   "source": [
    "### A base de texto utilizada nesse exercício são dados coletados do Twitter. Essas dados consistem em tweets relacionados aos pré-candidatos das eleições presidenciais de 2018. Existem ~ 3E5 tweets nesta base de treino."
   ]
  },
  {
   "cell_type": "code",
   "execution_count": 17,
   "metadata": {},
   "outputs": [],
   "source": [
    "# Cuidado! Aponte o caminho correto para a fonte de dados no seu computador. \n",
    "#path_text = 'E:\\\\Dropbox\\\\Consulting_workshops\\\\minicuso_ufabc\\\\NN\\\\text\\\\'\n",
    "path_text ='/home/kognita/Dropbox/shared_Amanda_Kognita/handson_NLP_kognita_ufabc/part4_NN/text/'"
   ]
  },
  {
   "cell_type": "code",
   "execution_count": 18,
   "metadata": {},
   "outputs": [
    {
     "name": "stdout",
     "output_type": "stream",
     "text": [
      "/home/kognita/Dropbox/shared_Amanda_Kognita/handson_NLP_kognita_ufabc/part4_NN/text/\n"
     ]
    }
   ],
   "source": [
    "print path_text"
   ]
  },
  {
   "cell_type": "code",
   "execution_count": null,
   "metadata": {
    "collapsed": true
   },
   "outputs": [],
   "source": []
  },
  {
   "cell_type": "code",
   "execution_count": null,
   "metadata": {
    "collapsed": true
   },
   "outputs": [],
   "source": []
  },
  {
   "cell_type": "code",
   "execution_count": null,
   "metadata": {
    "collapsed": true
   },
   "outputs": [],
   "source": []
  },
  {
   "cell_type": "code",
   "execution_count": 20,
   "metadata": {},
   "outputs": [],
   "source": [
    "# um iterador memory-friendly para leitura e processamento \n",
    "class MySentences(object):\n",
    "    def __init__(self, dirname):\n",
    "        self.dirname = dirname\n",
    " \n",
    "    def __iter__(self):\n",
    "        for fname in os.listdir(self.dirname):\n",
    "            for line in open(os.path.join(self.dirname, fname)):\n",
    "                yield line.split()"
   ]
  },
  {
   "cell_type": "code",
   "execution_count": 21,
   "metadata": {},
   "outputs": [],
   "source": [
    "sentences = MySentences(path_text) \n"
   ]
  },
  {
   "cell_type": "code",
   "execution_count": 22,
   "metadata": {},
   "outputs": [
    {
     "data": {
      "text/plain": [
       "<__main__.MySentences at 0x7f41b697ac10>"
      ]
     },
     "execution_count": 22,
     "metadata": {},
     "output_type": "execute_result"
    }
   ],
   "source": [
    "sentences"
   ]
  },
  {
   "cell_type": "markdown",
   "metadata": {},
   "source": [
    "#### Alimentando a rede com os textos:\n",
    "size -> dimensionalidade do vetor que caracteriza uma dada palavra;\n",
    "\n",
    "window -> o tamanho da vizinhança considerada para uma dada palavra;\n",
    "\n",
    "min_count -> número de vezes que uma dada palavra deve aparecer no corpus para ser considerada;\n",
    "\n",
    "workers -> número de cpu's a serem utilizadas no treinamento da rede (paralelização)."
   ]
  },
  {
   "cell_type": "code",
   "execution_count": 23,
   "metadata": {
    "scrolled": true
   },
   "outputs": [
    {
     "name": "stderr",
     "output_type": "stream",
     "text": [
      "2018-06-19 18:01:58,886 : INFO : collecting all words and their counts\n",
      "2018-06-19 18:01:58,888 : INFO : PROGRESS: at sentence #0, processed 0 words, keeping 0 word types\n",
      "2018-06-19 18:01:58,975 : INFO : PROGRESS: at sentence #10000, processed 234978 words, keeping 7411 word types\n",
      "2018-06-19 18:01:59,039 : INFO : PROGRESS: at sentence #20000, processed 449216 words, keeping 12626 word types\n",
      "2018-06-19 18:01:59,106 : INFO : PROGRESS: at sentence #30000, processed 670047 words, keeping 16952 word types\n",
      "2018-06-19 18:01:59,168 : INFO : PROGRESS: at sentence #40000, processed 880254 words, keeping 20975 word types\n",
      "2018-06-19 18:01:59,225 : INFO : PROGRESS: at sentence #50000, processed 1098303 words, keeping 23917 word types\n",
      "2018-06-19 18:01:59,276 : INFO : PROGRESS: at sentence #60000, processed 1298878 words, keeping 26407 word types\n",
      "2018-06-19 18:01:59,332 : INFO : PROGRESS: at sentence #70000, processed 1530420 words, keeping 28934 word types\n",
      "2018-06-19 18:01:59,380 : INFO : PROGRESS: at sentence #80000, processed 1744228 words, keeping 30896 word types\n",
      "2018-06-19 18:01:59,432 : INFO : PROGRESS: at sentence #90000, processed 1984811 words, keeping 32798 word types\n",
      "2018-06-19 18:01:59,485 : INFO : PROGRESS: at sentence #100000, processed 2208210 words, keeping 34885 word types\n",
      "2018-06-19 18:01:59,546 : INFO : PROGRESS: at sentence #110000, processed 2415077 words, keeping 36698 word types\n",
      "2018-06-19 18:01:59,596 : INFO : PROGRESS: at sentence #120000, processed 2631645 words, keeping 38467 word types\n",
      "2018-06-19 18:01:59,658 : INFO : PROGRESS: at sentence #130000, processed 2803733 words, keeping 40014 word types\n",
      "2018-06-19 18:01:59,727 : INFO : PROGRESS: at sentence #140000, processed 2992806 words, keeping 41729 word types\n",
      "2018-06-19 18:01:59,771 : INFO : PROGRESS: at sentence #150000, processed 3163529 words, keeping 43340 word types\n",
      "2018-06-19 18:01:59,840 : INFO : PROGRESS: at sentence #160000, processed 3358499 words, keeping 45025 word types\n",
      "2018-06-19 18:01:59,913 : INFO : PROGRESS: at sentence #170000, processed 3557719 words, keeping 46816 word types\n",
      "2018-06-19 18:01:59,965 : INFO : PROGRESS: at sentence #180000, processed 3756096 words, keeping 48263 word types\n",
      "2018-06-19 18:02:00,027 : INFO : PROGRESS: at sentence #190000, processed 3969401 words, keeping 49594 word types\n",
      "2018-06-19 18:02:00,098 : INFO : PROGRESS: at sentence #200000, processed 4178579 words, keeping 50911 word types\n",
      "2018-06-19 18:02:00,159 : INFO : PROGRESS: at sentence #210000, processed 4390633 words, keeping 52258 word types\n",
      "2018-06-19 18:02:00,226 : INFO : PROGRESS: at sentence #220000, processed 4603132 words, keeping 53507 word types\n",
      "2018-06-19 18:02:00,287 : INFO : PROGRESS: at sentence #230000, processed 4812696 words, keeping 54594 word types\n",
      "2018-06-19 18:02:00,367 : INFO : PROGRESS: at sentence #240000, processed 5046865 words, keeping 55606 word types\n",
      "2018-06-19 18:02:00,425 : INFO : PROGRESS: at sentence #250000, processed 5292856 words, keeping 56579 word types\n",
      "2018-06-19 18:02:00,475 : INFO : PROGRESS: at sentence #260000, processed 5483438 words, keeping 57547 word types\n",
      "2018-06-19 18:02:00,520 : INFO : PROGRESS: at sentence #270000, processed 5660566 words, keeping 58685 word types\n",
      "2018-06-19 18:02:00,577 : INFO : PROGRESS: at sentence #280000, processed 5875556 words, keeping 59997 word types\n",
      "2018-06-19 18:02:00,624 : INFO : PROGRESS: at sentence #290000, processed 6079911 words, keeping 60976 word types\n",
      "2018-06-19 18:02:00,676 : INFO : PROGRESS: at sentence #300000, processed 6280189 words, keeping 61934 word types\n",
      "2018-06-19 18:02:00,711 : INFO : collected 62525 word types from a corpus of 6412576 raw words and 305746 sentences\n",
      "2018-06-19 18:02:00,713 : INFO : Loading a fresh vocabulary\n",
      "2018-06-19 18:02:00,832 : INFO : min_count=3 retains 27716 unique words (44% of original 62525, drops 34809)\n",
      "2018-06-19 18:02:00,835 : INFO : min_count=3 leaves 6366147 word corpus (99% of original 6412576, drops 46429)\n",
      "2018-06-19 18:02:00,901 : INFO : deleting the raw counts dictionary of 62525 items\n",
      "2018-06-19 18:02:00,906 : INFO : sample=0.001 downsamples 30 most-common words\n",
      "2018-06-19 18:02:00,908 : INFO : downsampling leaves estimated 5970834 word corpus (93.8% of prior 6366147)\n",
      "2018-06-19 18:02:00,992 : INFO : estimated required memory for 27716 words and 500 dimensions: 124722000 bytes\n",
      "2018-06-19 18:02:00,994 : INFO : resetting layer weights\n",
      "2018-06-19 18:02:04,658 : INFO : training model with 1 workers on 27716 vocabulary and 500 features, using sg=0 hs=0 sample=0.001 negative=5 window=5\n",
      "2018-06-19 18:02:09,167 : INFO : EPOCH 1 - PROGRESS: at 0.12% examples, 2068 words/s, in_qsize 2, out_qsize 0\n",
      "2018-06-19 18:02:10,303 : INFO : EPOCH 1 - PROGRESS: at 0.64% examples, 8305 words/s, in_qsize 2, out_qsize 0\n",
      "2018-06-19 18:02:11,309 : INFO : EPOCH 1 - PROGRESS: at 4.49% examples, 44803 words/s, in_qsize 2, out_qsize 0\n",
      "2018-06-19 18:02:12,309 : INFO : EPOCH 1 - PROGRESS: at 8.59% examples, 72657 words/s, in_qsize 2, out_qsize 0\n",
      "2018-06-19 18:02:13,336 : INFO : EPOCH 1 - PROGRESS: at 12.92% examples, 93140 words/s, in_qsize 1, out_qsize 0\n",
      "2018-06-19 18:02:14,351 : INFO : EPOCH 1 - PROGRESS: at 16.94% examples, 109493 words/s, in_qsize 2, out_qsize 0\n",
      "2018-06-19 18:02:15,379 : INFO : EPOCH 1 - PROGRESS: at 21.48% examples, 123342 words/s, in_qsize 2, out_qsize 0\n",
      "2018-06-19 18:02:16,390 : INFO : EPOCH 1 - PROGRESS: at 25.38% examples, 135106 words/s, in_qsize 2, out_qsize 0\n",
      "2018-06-19 18:02:17,402 : INFO : EPOCH 1 - PROGRESS: at 29.60% examples, 146066 words/s, in_qsize 2, out_qsize 0\n",
      "2018-06-19 18:02:18,424 : INFO : EPOCH 1 - PROGRESS: at 33.86% examples, 154765 words/s, in_qsize 2, out_qsize 0\n",
      "2018-06-19 18:02:19,426 : INFO : EPOCH 1 - PROGRESS: at 38.31% examples, 161892 words/s, in_qsize 2, out_qsize 0\n",
      "2018-06-19 18:02:20,452 : INFO : EPOCH 1 - PROGRESS: at 43.53% examples, 168314 words/s, in_qsize 2, out_qsize 0\n",
      "2018-06-19 18:02:21,473 : INFO : EPOCH 1 - PROGRESS: at 48.51% examples, 173490 words/s, in_qsize 1, out_qsize 0\n",
      "2018-06-19 18:02:22,506 : INFO : EPOCH 1 - PROGRESS: at 53.22% examples, 178053 words/s, in_qsize 2, out_qsize 0\n",
      "2018-06-19 18:02:23,529 : INFO : EPOCH 1 - PROGRESS: at 57.76% examples, 182192 words/s, in_qsize 2, out_qsize 0\n",
      "2018-06-19 18:02:24,532 : INFO : EPOCH 1 - PROGRESS: at 62.07% examples, 185676 words/s, in_qsize 1, out_qsize 0\n",
      "2018-06-19 18:02:25,554 : INFO : EPOCH 1 - PROGRESS: at 66.39% examples, 189568 words/s, in_qsize 1, out_qsize 0\n",
      "2018-06-19 18:02:26,581 : INFO : EPOCH 1 - PROGRESS: at 70.91% examples, 193056 words/s, in_qsize 2, out_qsize 0\n",
      "2018-06-19 18:02:27,611 : INFO : EPOCH 1 - PROGRESS: at 75.74% examples, 196586 words/s, in_qsize 2, out_qsize 0\n",
      "2018-06-19 18:02:28,616 : INFO : EPOCH 1 - PROGRESS: at 79.46% examples, 199643 words/s, in_qsize 1, out_qsize 0\n",
      "2018-06-19 18:02:29,622 : INFO : EPOCH 1 - PROGRESS: at 84.08% examples, 202371 words/s, in_qsize 2, out_qsize 0\n",
      "2018-06-19 18:02:30,645 : INFO : EPOCH 1 - PROGRESS: at 89.07% examples, 204726 words/s, in_qsize 2, out_qsize 0\n",
      "2018-06-19 18:02:31,654 : INFO : EPOCH 1 - PROGRESS: at 93.63% examples, 207025 words/s, in_qsize 2, out_qsize 0\n",
      "2018-06-19 18:02:32,663 : INFO : EPOCH 1 - PROGRESS: at 98.26% examples, 209188 words/s, in_qsize 1, out_qsize 0\n",
      "2018-06-19 18:02:33,097 : INFO : worker thread finished; awaiting finish of 0 more threads\n",
      "2018-06-19 18:02:33,098 : INFO : EPOCH - 1 : training on 6412576 raw words (5971664 effective words) took 28.4s, 209994 effective words/s\n",
      "2018-06-19 18:02:34,112 : INFO : EPOCH 2 - PROGRESS: at 3.93% examples, 258766 words/s, in_qsize 2, out_qsize 0\n",
      "2018-06-19 18:02:35,141 : INFO : EPOCH 2 - PROGRESS: at 8.42% examples, 268170 words/s, in_qsize 2, out_qsize 0\n",
      "2018-06-19 18:02:36,161 : INFO : EPOCH 2 - PROGRESS: at 13.06% examples, 267233 words/s, in_qsize 2, out_qsize 0\n",
      "2018-06-19 18:02:37,170 : INFO : EPOCH 2 - PROGRESS: at 17.26% examples, 265739 words/s, in_qsize 1, out_qsize 0\n",
      "2018-06-19 18:02:38,179 : INFO : EPOCH 2 - PROGRESS: at 21.86% examples, 266259 words/s, in_qsize 1, out_qsize 0\n",
      "2018-06-19 18:02:39,186 : INFO : EPOCH 2 - PROGRESS: at 26.05% examples, 266571 words/s, in_qsize 2, out_qsize 0\n",
      "2018-06-19 18:02:40,193 : INFO : EPOCH 2 - PROGRESS: at 30.00% examples, 266552 words/s, in_qsize 1, out_qsize 0\n"
     ]
    },
    {
     "name": "stderr",
     "output_type": "stream",
     "text": [
      "2018-06-19 18:02:41,218 : INFO : EPOCH 2 - PROGRESS: at 34.58% examples, 267025 words/s, in_qsize 1, out_qsize 0\n",
      "2018-06-19 18:02:42,237 : INFO : EPOCH 2 - PROGRESS: at 39.00% examples, 266792 words/s, in_qsize 2, out_qsize 0\n",
      "2018-06-19 18:02:43,252 : INFO : EPOCH 2 - PROGRESS: at 44.27% examples, 266457 words/s, in_qsize 2, out_qsize 0\n",
      "2018-06-19 18:02:44,257 : INFO : EPOCH 2 - PROGRESS: at 49.47% examples, 265627 words/s, in_qsize 2, out_qsize 0\n",
      "2018-06-19 18:02:45,262 : INFO : EPOCH 2 - PROGRESS: at 54.10% examples, 265057 words/s, in_qsize 2, out_qsize 0\n",
      "2018-06-19 18:02:46,267 : INFO : EPOCH 2 - PROGRESS: at 58.65% examples, 264649 words/s, in_qsize 2, out_qsize 0\n",
      "2018-06-19 18:02:47,269 : INFO : EPOCH 2 - PROGRESS: at 62.87% examples, 263678 words/s, in_qsize 2, out_qsize 0\n",
      "2018-06-19 18:02:48,285 : INFO : EPOCH 2 - PROGRESS: at 66.88% examples, 262651 words/s, in_qsize 2, out_qsize 0\n",
      "2018-06-19 18:02:49,308 : INFO : EPOCH 2 - PROGRESS: at 71.07% examples, 261679 words/s, in_qsize 2, out_qsize 0\n",
      "2018-06-19 18:02:50,320 : INFO : EPOCH 2 - PROGRESS: at 75.39% examples, 260947 words/s, in_qsize 2, out_qsize 0\n",
      "2018-06-19 18:02:51,345 : INFO : EPOCH 2 - PROGRESS: at 79.10% examples, 260637 words/s, in_qsize 1, out_qsize 0\n",
      "2018-06-19 18:02:52,371 : INFO : EPOCH 2 - PROGRESS: at 83.62% examples, 260672 words/s, in_qsize 2, out_qsize 0\n",
      "2018-06-19 18:02:53,384 : INFO : EPOCH 2 - PROGRESS: at 88.33% examples, 260002 words/s, in_qsize 2, out_qsize 0\n",
      "2018-06-19 18:02:54,391 : INFO : EPOCH 2 - PROGRESS: at 92.35% examples, 258965 words/s, in_qsize 2, out_qsize 0\n",
      "2018-06-19 18:02:55,418 : INFO : EPOCH 2 - PROGRESS: at 96.61% examples, 258292 words/s, in_qsize 2, out_qsize 0\n",
      "2018-06-19 18:02:56,211 : INFO : worker thread finished; awaiting finish of 0 more threads\n",
      "2018-06-19 18:02:56,212 : INFO : EPOCH - 2 : training on 6412576 raw words (5970805 effective words) took 23.1s, 258379 effective words/s\n",
      "2018-06-19 18:02:57,220 : INFO : EPOCH 3 - PROGRESS: at 3.63% examples, 242323 words/s, in_qsize 2, out_qsize 0\n",
      "2018-06-19 18:02:58,241 : INFO : EPOCH 3 - PROGRESS: at 7.86% examples, 247502 words/s, in_qsize 1, out_qsize 0\n",
      "2018-06-19 18:02:59,251 : INFO : EPOCH 3 - PROGRESS: at 12.15% examples, 251453 words/s, in_qsize 1, out_qsize 0\n",
      "2018-06-19 18:03:00,269 : INFO : EPOCH 3 - PROGRESS: at 16.35% examples, 252934 words/s, in_qsize 1, out_qsize 0\n",
      "2018-06-19 18:03:01,285 : INFO : EPOCH 3 - PROGRESS: at 20.88% examples, 253797 words/s, in_qsize 1, out_qsize 0\n",
      "2018-06-19 18:03:02,299 : INFO : EPOCH 3 - PROGRESS: at 24.91% examples, 256052 words/s, in_qsize 2, out_qsize 0\n",
      "2018-06-19 18:03:03,315 : INFO : EPOCH 3 - PROGRESS: at 29.11% examples, 257079 words/s, in_qsize 2, out_qsize 0\n",
      "2018-06-19 18:03:04,330 : INFO : EPOCH 3 - PROGRESS: at 33.13% examples, 256920 words/s, in_qsize 1, out_qsize 0\n",
      "2018-06-19 18:03:05,355 : INFO : EPOCH 3 - PROGRESS: at 37.38% examples, 254623 words/s, in_qsize 1, out_qsize 0\n",
      "2018-06-19 18:03:06,357 : INFO : EPOCH 3 - PROGRESS: at 41.96% examples, 254983 words/s, in_qsize 2, out_qsize 0\n",
      "2018-06-19 18:03:07,381 : INFO : EPOCH 3 - PROGRESS: at 46.70% examples, 253100 words/s, in_qsize 1, out_qsize 0\n",
      "2018-06-19 18:03:08,400 : INFO : EPOCH 3 - PROGRESS: at 51.64% examples, 253210 words/s, in_qsize 2, out_qsize 0\n",
      "2018-06-19 18:03:09,405 : INFO : EPOCH 3 - PROGRESS: at 56.28% examples, 253626 words/s, in_qsize 2, out_qsize 0\n",
      "2018-06-19 18:03:10,439 : INFO : EPOCH 3 - PROGRESS: at 60.73% examples, 252854 words/s, in_qsize 1, out_qsize 0\n",
      "2018-06-19 18:03:11,464 : INFO : EPOCH 3 - PROGRESS: at 64.89% examples, 253009 words/s, in_qsize 2, out_qsize 0\n",
      "2018-06-19 18:03:12,481 : INFO : EPOCH 3 - PROGRESS: at 68.96% examples, 252704 words/s, in_qsize 2, out_qsize 0\n",
      "2018-06-19 18:03:13,518 : INFO : EPOCH 3 - PROGRESS: at 73.14% examples, 252204 words/s, in_qsize 2, out_qsize 0\n",
      "2018-06-19 18:03:14,523 : INFO : EPOCH 3 - PROGRESS: at 77.16% examples, 251584 words/s, in_qsize 2, out_qsize 0\n",
      "2018-06-19 18:03:15,535 : INFO : EPOCH 3 - PROGRESS: at 80.59% examples, 251937 words/s, in_qsize 2, out_qsize 0\n",
      "2018-06-19 18:03:16,552 : INFO : EPOCH 3 - PROGRESS: at 85.49% examples, 252496 words/s, in_qsize 2, out_qsize 0\n",
      "2018-06-19 18:03:17,592 : INFO : EPOCH 3 - PROGRESS: at 89.77% examples, 251062 words/s, in_qsize 2, out_qsize 0\n",
      "2018-06-19 18:03:18,596 : INFO : EPOCH 3 - PROGRESS: at 94.23% examples, 251387 words/s, in_qsize 2, out_qsize 0\n",
      "2018-06-19 18:03:19,597 : INFO : EPOCH 3 - PROGRESS: at 98.65% examples, 251705 words/s, in_qsize 2, out_qsize 0\n",
      "2018-06-19 18:03:19,912 : INFO : worker thread finished; awaiting finish of 0 more threads\n",
      "2018-06-19 18:03:19,914 : INFO : EPOCH - 3 : training on 6412576 raw words (5971366 effective words) took 23.7s, 252011 effective words/s\n",
      "2018-06-19 18:03:20,936 : INFO : EPOCH 4 - PROGRESS: at 4.06% examples, 265078 words/s, in_qsize 2, out_qsize 0\n",
      "2018-06-19 18:03:21,971 : INFO : EPOCH 4 - PROGRESS: at 8.59% examples, 270575 words/s, in_qsize 2, out_qsize 0\n",
      "2018-06-19 18:03:22,973 : INFO : EPOCH 4 - PROGRESS: at 13.06% examples, 267380 words/s, in_qsize 1, out_qsize 0\n",
      "2018-06-19 18:03:24,006 : INFO : EPOCH 4 - PROGRESS: at 17.44% examples, 266330 words/s, in_qsize 1, out_qsize 0\n",
      "2018-06-19 18:03:25,024 : INFO : EPOCH 4 - PROGRESS: at 21.98% examples, 266265 words/s, in_qsize 1, out_qsize 0\n",
      "2018-06-19 18:03:26,045 : INFO : EPOCH 4 - PROGRESS: at 26.22% examples, 266012 words/s, in_qsize 1, out_qsize 0\n",
      "2018-06-19 18:03:27,060 : INFO : EPOCH 4 - PROGRESS: at 30.26% examples, 267004 words/s, in_qsize 2, out_qsize 0\n",
      "2018-06-19 18:03:28,064 : INFO : EPOCH 4 - PROGRESS: at 34.16% examples, 263822 words/s, in_qsize 1, out_qsize 0\n",
      "2018-06-19 18:03:29,065 : INFO : EPOCH 4 - PROGRESS: at 38.44% examples, 262306 words/s, in_qsize 1, out_qsize 0\n",
      "2018-06-19 18:03:30,090 : INFO : EPOCH 4 - PROGRESS: at 43.67% examples, 262120 words/s, in_qsize 2, out_qsize 0\n",
      "2018-06-19 18:03:31,097 : INFO : EPOCH 4 - PROGRESS: at 48.51% examples, 260851 words/s, in_qsize 2, out_qsize 0\n",
      "2018-06-19 18:03:32,120 : INFO : EPOCH 4 - PROGRESS: at 53.22% examples, 260337 words/s, in_qsize 2, out_qsize 0\n",
      "2018-06-19 18:03:33,171 : INFO : EPOCH 4 - PROGRESS: at 57.94% examples, 260044 words/s, in_qsize 1, out_qsize 0\n",
      "2018-06-19 18:03:34,171 : INFO : EPOCH 4 - PROGRESS: at 62.20% examples, 259444 words/s, in_qsize 1, out_qsize 0\n",
      "2018-06-19 18:03:35,205 : INFO : EPOCH 4 - PROGRESS: at 66.26% examples, 258367 words/s, in_qsize 2, out_qsize 0\n",
      "2018-06-19 18:03:36,219 : INFO : EPOCH 4 - PROGRESS: at 70.17% examples, 257276 words/s, in_qsize 2, out_qsize 0\n",
      "2018-06-19 18:03:37,241 : INFO : EPOCH 4 - PROGRESS: at 74.59% examples, 256635 words/s, in_qsize 1, out_qsize 0\n",
      "2018-06-19 18:03:38,265 : INFO : EPOCH 4 - PROGRESS: at 78.45% examples, 256063 words/s, in_qsize 1, out_qsize 0\n",
      "2018-06-19 18:03:39,281 : INFO : EPOCH 4 - PROGRESS: at 82.44% examples, 256529 words/s, in_qsize 2, out_qsize 0\n",
      "2018-06-19 18:03:40,306 : INFO : EPOCH 4 - PROGRESS: at 87.64% examples, 256769 words/s, in_qsize 2, out_qsize 0\n",
      "2018-06-19 18:03:41,341 : INFO : EPOCH 4 - PROGRESS: at 92.17% examples, 256875 words/s, in_qsize 2, out_qsize 0\n",
      "2018-06-19 18:03:42,358 : INFO : EPOCH 4 - PROGRESS: at 96.76% examples, 257233 words/s, in_qsize 2, out_qsize 0\n",
      "2018-06-19 18:03:43,101 : INFO : worker thread finished; awaiting finish of 0 more threads\n",
      "2018-06-19 18:03:43,103 : INFO : EPOCH - 4 : training on 6412576 raw words (5970580 effective words) took 23.2s, 257511 effective words/s\n",
      "2018-06-19 18:03:44,135 : INFO : EPOCH 5 - PROGRESS: at 4.06% examples, 263309 words/s, in_qsize 1, out_qsize 0\n",
      "2018-06-19 18:03:45,147 : INFO : EPOCH 5 - PROGRESS: at 8.17% examples, 258652 words/s, in_qsize 2, out_qsize 0\n",
      "2018-06-19 18:03:46,171 : INFO : EPOCH 5 - PROGRESS: at 12.48% examples, 254655 words/s, in_qsize 2, out_qsize 0\n",
      "2018-06-19 18:03:47,180 : INFO : EPOCH 5 - PROGRESS: at 16.65% examples, 255862 words/s, in_qsize 1, out_qsize 0\n",
      "2018-06-19 18:03:48,194 : INFO : EPOCH 5 - PROGRESS: at 21.21% examples, 256230 words/s, in_qsize 1, out_qsize 0\n",
      "2018-06-19 18:03:49,208 : INFO : EPOCH 5 - PROGRESS: at 24.91% examples, 255330 words/s, in_qsize 1, out_qsize 0\n",
      "2018-06-19 18:03:50,215 : INFO : EPOCH 5 - PROGRESS: at 28.99% examples, 255272 words/s, in_qsize 2, out_qsize 0\n"
     ]
    },
    {
     "name": "stderr",
     "output_type": "stream",
     "text": [
      "2018-06-19 18:03:51,222 : INFO : EPOCH 5 - PROGRESS: at 32.97% examples, 255608 words/s, in_qsize 2, out_qsize 0\n",
      "2018-06-19 18:03:52,258 : INFO : EPOCH 5 - PROGRESS: at 37.69% examples, 256107 words/s, in_qsize 2, out_qsize 0\n",
      "2018-06-19 18:03:53,283 : INFO : EPOCH 5 - PROGRESS: at 42.14% examples, 254871 words/s, in_qsize 1, out_qsize 0\n",
      "2018-06-19 18:03:54,300 : INFO : EPOCH 5 - PROGRESS: at 46.87% examples, 253165 words/s, in_qsize 1, out_qsize 0\n",
      "2018-06-19 18:03:55,328 : INFO : EPOCH 5 - PROGRESS: at 51.78% examples, 253081 words/s, in_qsize 2, out_qsize 0\n",
      "2018-06-19 18:03:56,356 : INFO : EPOCH 5 - PROGRESS: at 55.91% examples, 251015 words/s, in_qsize 1, out_qsize 0\n",
      "2018-06-19 18:03:57,408 : INFO : EPOCH 5 - PROGRESS: at 60.32% examples, 249383 words/s, in_qsize 1, out_qsize 0\n",
      "2018-06-19 18:03:58,416 : INFO : EPOCH 5 - PROGRESS: at 64.09% examples, 248251 words/s, in_qsize 2, out_qsize 0\n",
      "2018-06-19 18:03:59,455 : INFO : EPOCH 5 - PROGRESS: at 68.01% examples, 247283 words/s, in_qsize 1, out_qsize 0\n",
      "2018-06-19 18:04:00,460 : INFO : EPOCH 5 - PROGRESS: at 71.59% examples, 245972 words/s, in_qsize 2, out_qsize 0\n",
      "2018-06-19 18:04:01,473 : INFO : EPOCH 5 - PROGRESS: at 75.74% examples, 245612 words/s, in_qsize 2, out_qsize 0\n",
      "2018-06-19 18:04:02,481 : INFO : EPOCH 5 - PROGRESS: at 79.33% examples, 246316 words/s, in_qsize 1, out_qsize 0\n",
      "2018-06-19 18:04:03,488 : INFO : EPOCH 5 - PROGRESS: at 83.46% examples, 245970 words/s, in_qsize 2, out_qsize 0\n",
      "2018-06-19 18:04:04,503 : INFO : EPOCH 5 - PROGRESS: at 88.17% examples, 245984 words/s, in_qsize 2, out_qsize 0\n",
      "2018-06-19 18:04:05,535 : INFO : EPOCH 5 - PROGRESS: at 92.17% examples, 245365 words/s, in_qsize 2, out_qsize 0\n",
      "2018-06-19 18:04:06,570 : INFO : EPOCH 5 - PROGRESS: at 96.61% examples, 245629 words/s, in_qsize 1, out_qsize 0\n",
      "2018-06-19 18:04:07,364 : INFO : worker thread finished; awaiting finish of 0 more threads\n",
      "2018-06-19 18:04:07,365 : INFO : EPOCH - 5 : training on 6412576 raw words (5970769 effective words) took 24.3s, 246114 effective words/s\n",
      "2018-06-19 18:04:07,367 : INFO : training on a 32062880 raw words (29855184 effective words) took 122.7s, 243305 effective words/s\n"
     ]
    }
   ],
   "source": [
    "model = gensim.models.Word2Vec(sentences, size=500, window=5, min_count=3, workers=1)"
   ]
  },
  {
   "cell_type": "code",
   "execution_count": null,
   "metadata": {
    "collapsed": true
   },
   "outputs": [],
   "source": []
  },
  {
   "cell_type": "markdown",
   "metadata": {},
   "source": [
    "#### Salvando o modelo em disco, para uso posterior:"
   ]
  },
  {
   "cell_type": "code",
   "execution_count": 9,
   "metadata": {},
   "outputs": [
    {
     "name": "stderr",
     "output_type": "stream",
     "text": [
      "2018-06-19 14:48:57,332 : INFO : saving Word2Vec object under saved_model, separately None\n",
      "2018-06-19 14:48:57,334 : INFO : storing np array 'vectors' to saved_model.wv.vectors.npy\n",
      "2018-06-19 14:48:57,585 : INFO : not storing attribute vectors_norm\n",
      "2018-06-19 14:48:57,588 : INFO : storing np array 'syn1neg' to saved_model.trainables.syn1neg.npy\n",
      "2018-06-19 14:48:57,851 : INFO : not storing attribute cum_table\n",
      "2018-06-19 14:48:58,198 : INFO : saved saved_model\n"
     ]
    }
   ],
   "source": [
    "model.save('saved_model')"
   ]
  },
  {
   "cell_type": "code",
   "execution_count": null,
   "metadata": {
    "collapsed": true
   },
   "outputs": [],
   "source": []
  },
  {
   "cell_type": "markdown",
   "metadata": {},
   "source": [
    "#### O comando abaixo carrega o modelo na memória em usos futuros, para que não seja necessário treiná-lo toda vez."
   ]
  },
  {
   "cell_type": "code",
   "execution_count": 10,
   "metadata": {
    "collapsed": true
   },
   "outputs": [],
   "source": [
    "#model = gensim.models.Word2Vec.load('test_model_word2vec_v5')"
   ]
  },
  {
   "cell_type": "code",
   "execution_count": null,
   "metadata": {
    "collapsed": true
   },
   "outputs": [],
   "source": []
  },
  {
   "cell_type": "code",
   "execution_count": null,
   "metadata": {
    "collapsed": true
   },
   "outputs": [],
   "source": []
  },
  {
   "cell_type": "code",
   "execution_count": null,
   "metadata": {
    "collapsed": true
   },
   "outputs": [],
   "source": []
  },
  {
   "cell_type": "markdown",
   "metadata": {},
   "source": [
    "#### Abaixo, temos a representação vetorial da palavra \"hoje\", que é um output da rede neural:"
   ]
  },
  {
   "cell_type": "code",
   "execution_count": 11,
   "metadata": {
    "scrolled": true
   },
   "outputs": [
    {
     "data": {
      "text/plain": [
       "array([ 0.3205213 , -1.73780513, -0.96602643, -1.93781793, -0.52404559,\n",
       "       -0.61205977, -0.19617414, -0.48951933,  0.21541773,  2.38024592,\n",
       "       -0.79971796, -1.01005602,  1.64436996, -0.01466262, -0.46492592,\n",
       "       -0.20427717, -1.53568923, -0.33122125,  2.14229631, -0.07101835,\n",
       "       -2.10859132, -2.56420112, -3.37254572,  0.49244887,  0.34755185,\n",
       "       -1.81641638,  0.88660496,  0.01783044,  0.14006887, -1.39518106,\n",
       "        3.33108139, -0.60425955, -1.82783604,  1.26575291,  2.0041399 ,\n",
       "        0.01790279,  1.11888683,  0.45580947,  0.78832173,  0.33383468,\n",
       "       -1.05866575, -1.4481324 , -0.29806742, -0.34002161, -0.41276157,\n",
       "       -1.50555575, -0.5181306 , -0.66958064,  0.32665631,  1.44509971,\n",
       "        0.27188656,  0.63025194,  0.47199076, -0.67988104, -0.45560995,\n",
       "        1.6333015 ,  0.72164589, -0.62059331, -0.27400365, -0.20940237,\n",
       "       -0.3798717 , -0.33983341, -0.3204731 , -0.71289796,  1.72134423,\n",
       "       -1.69748521,  0.75152069,  2.6428206 , -0.8244105 ,  2.84069252,\n",
       "       -0.0444019 ,  1.6877569 ,  1.37875926,  2.96619797,  4.0750556 ,\n",
       "       -0.53588599, -1.71176422,  0.10231204,  0.45274565, -1.39672112,\n",
       "        1.03607965,  2.0523982 , -0.02635313, -0.29208568, -0.0727364 ,\n",
       "       -0.04103778,  0.61899459,  1.53911591, -0.93196607,  0.31113568,\n",
       "       -0.14671808,  0.59845382, -0.34464604,  0.2265676 ,  1.08494186,\n",
       "       -2.36101794,  0.695207  ,  0.34170634, -1.43527722, -0.75328875,\n",
       "       -1.13899291, -1.01181519, -0.06262404,  0.8758074 , -0.98107654,\n",
       "        0.71116549, -1.26615822, -0.60004658,  1.00744069,  0.24006058,\n",
       "       -1.53072608, -0.62754112,  0.68667656,  0.72788966, -0.87853587,\n",
       "       -0.46948749,  1.93970084,  2.95883489,  3.14504147,  0.90130198,\n",
       "       -1.73836803,  0.06046536,  1.12472701, -0.06810531,  1.3601948 ,\n",
       "       -1.19372725,  1.78345728,  0.61407876, -1.34635699, -0.13612066,\n",
       "       -0.19735767,  0.71470577,  0.35340613, -1.33985877,  1.20469773,\n",
       "       -1.64041018, -1.92182696, -0.55356544,  0.86740184,  2.40330052,\n",
       "        1.19430864, -1.12303746, -0.55555403, -1.38595986,  0.80063099,\n",
       "        1.29461575,  0.76614946, -0.65575475, -1.29705894, -0.63354009,\n",
       "       -2.58080411, -3.63714361,  0.83069825, -2.85897326, -0.90487611,\n",
       "       -0.60860014, -1.56480622,  1.11867332,  1.35993361, -2.11978197,\n",
       "        1.62557423, -0.65448892,  1.1772989 ,  1.81889963,  0.89338481,\n",
       "        1.56714714,  1.95701563,  0.69646603,  0.26623133, -3.06559491,\n",
       "        2.45698738, -1.72141361, -2.21669626,  0.68268549, -0.96274185,\n",
       "        0.55636954, -0.44541338,  1.40345073,  1.39657855,  0.64740813,\n",
       "       -0.37883347, -0.50996238, -0.71545285,  1.2777127 ,  2.4101069 ,\n",
       "        1.03807127,  0.45808995, -1.27909744,  0.56960559, -1.54901159,\n",
       "       -0.38865644, -1.9092989 ,  0.55187488,  1.27072334, -0.72903854,\n",
       "       -0.22348653, -0.83007109,  0.31672648,  0.61769259,  0.38421699,\n",
       "        0.50288182, -1.49447012, -0.53868866, -0.22073388,  2.24732614,\n",
       "        1.5040977 ,  0.61003053,  0.70382112, -0.79887736,  1.22733915,\n",
       "       -3.05759907,  0.87544268, -0.05415127, -0.54136187,  0.31586263,\n",
       "        1.3650676 ,  0.04768021,  0.24653839, -0.14598861, -2.23150778,\n",
       "       -0.08886383,  0.57988346, -0.34341303,  0.96313471,  1.28456402,\n",
       "       -1.33209062, -0.24610412,  1.51882315, -1.44672275,  0.93518227,\n",
       "        0.85191041,  0.91540498, -2.20526433, -3.93287539, -0.29233539,\n",
       "        2.80183315, -0.53480667, -3.02916121, -1.35905075, -0.43848309,\n",
       "        0.94213378,  1.76768005, -0.39592063, -0.97368449, -0.01182454,\n",
       "        1.8763963 ,  2.18987012,  1.02117848, -0.90362185, -1.98716986,\n",
       "        0.65268308,  0.98230463,  0.2058346 ,  1.05616105,  0.4850606 ,\n",
       "        2.20343018, -1.79503286, -1.78835654, -0.14580631,  0.89571285,\n",
       "        1.40735483, -1.07053971,  0.49999619,  1.49308598,  0.24548316,\n",
       "        0.6114437 ,  0.80578995,  0.97874033, -1.81576991,  0.58713865,\n",
       "       -0.19816796,  1.84836006, -2.20018578,  0.58734339, -0.72375607,\n",
       "        1.23770499, -0.21623029, -1.01402736,  0.26770261, -1.26521099,\n",
       "       -0.95456457, -0.79655516, -0.34723365,  0.57915968, -1.12952042,\n",
       "        1.43671274, -1.11087716, -0.09016694,  4.06542444, -0.69315279,\n",
       "       -0.34201869,  1.10222089, -0.67080587,  1.34570658, -0.0076705 ,\n",
       "        1.50100815,  1.24638939, -0.08896215,  0.81233603,  1.61141026,\n",
       "        0.06472249,  0.84879375,  0.29604751, -0.06710944, -0.3443    ,\n",
       "       -1.81938696, -0.14714427,  3.31967854,  0.94103724,  1.06263828,\n",
       "       -0.27449915,  1.87644911,  0.66638112, -0.13676575, -0.29467496,\n",
       "        0.68289793,  1.67775428,  0.20703958, -0.20421965, -0.63018173,\n",
       "       -0.30288553,  0.41295326, -0.16847649,  1.72223938, -0.37347761,\n",
       "       -1.818681  , -0.50765955,  0.18928435,  0.52647382,  0.08277651,\n",
       "       -3.53989911, -0.21185836, -1.74733913, -1.2760278 , -3.36997795,\n",
       "        1.83404517, -1.06282616,  1.34589922, -0.84197074,  1.65575588,\n",
       "        0.84022385, -2.07295942,  0.71458131, -1.96786177,  0.04633519,\n",
       "       -0.35269615,  1.60030091, -0.87607217, -0.62831223, -1.65150523,\n",
       "       -3.13377047, -1.85572553, -0.94752824, -0.94145525,  0.9842549 ,\n",
       "        1.90578604,  1.36752629, -1.49940324, -1.87650871, -1.9286164 ,\n",
       "        0.76255602,  0.10447243,  1.51194549, -0.44803843,  0.16098598,\n",
       "       -1.61749303, -0.67746758, -1.61438107,  0.13084479, -0.1101575 ,\n",
       "       -0.65123636, -0.13611735,  0.33020481, -0.63768905,  0.66798156,\n",
       "       -0.5055874 , -0.78221869,  1.67631102, -0.18091246, -0.38168171,\n",
       "       -0.09751501, -2.07856679,  0.41438746, -0.54842997, -0.87198579,\n",
       "       -2.06182861, -1.69601858,  1.77357805, -0.70333606,  1.14001822,\n",
       "        0.22762699, -1.0599612 , -1.00915265,  1.15210676,  0.84615976,\n",
       "       -2.24191332,  0.74902159, -0.35790849, -2.31807113, -2.169595  ,\n",
       "       -0.85297066, -1.54210222,  2.53026962,  1.75842345,  1.41725528,\n",
       "        0.58405071, -1.69293654, -1.11973882, -0.84128225,  0.02152259,\n",
       "        2.89673042, -1.08732605, -4.12110329, -0.5263288 ,  1.46876955,\n",
       "       -2.51752734,  2.51788306, -0.20087549, -0.61149532, -1.98928642,\n",
       "        1.85631502, -0.20309331,  2.49026823, -3.38677812,  3.38162756,\n",
       "        1.50317621,  0.8241207 ,  1.06210637,  1.4876883 ,  2.46884966,\n",
       "        0.2407607 , -0.293268  , -0.54189342,  0.72591472, -2.18185472,\n",
       "        1.85650206,  2.98676467,  2.01659489, -2.17607069, -2.97380471,\n",
       "        2.2051425 , -0.47082651, -1.24988997,  1.835922  , -1.77202785,\n",
       "        2.37498975,  0.42336655,  0.6678409 ,  1.1527456 , -0.48126271,\n",
       "       -0.10642232, -3.33367968, -2.0401926 , -0.10819168, -0.33885655,\n",
       "       -1.7167387 , -1.92056251, -0.60314131, -0.07960954, -1.17597961,\n",
       "        1.16456664, -1.30318511,  1.05818188, -1.0173198 , -1.6994592 ,\n",
       "        2.05441928, -2.53742743,  0.03866075,  2.98566794,  2.48055887,\n",
       "        2.85658717,  0.1714619 , -2.09197021, -0.07592533,  0.3966783 ,\n",
       "       -1.40097129,  1.47298658,  2.41612315,  0.41594234,  3.80787277,\n",
       "        1.34315026, -1.63780212, -0.02158593,  0.98466206,  3.96387506,\n",
       "       -0.77265137, -1.02071941, -0.6174534 ,  0.02768772,  0.27612865,\n",
       "        0.61325157, -0.32029027,  2.80660295,  2.63402271, -0.33814085,\n",
       "       -0.02070562, -0.31666133, -1.17322755,  1.43360245, -2.46816587], dtype=float32)"
      ]
     },
     "execution_count": 11,
     "metadata": {},
     "output_type": "execute_result"
    }
   ],
   "source": [
    "model.wv['hoje']"
   ]
  },
  {
   "cell_type": "markdown",
   "metadata": {},
   "source": [
    "#### Reparem que este vetor tem uma dimensão 500:"
   ]
  },
  {
   "cell_type": "code",
   "execution_count": 12,
   "metadata": {},
   "outputs": [
    {
     "data": {
      "text/plain": [
       "500"
      ]
     },
     "execution_count": 12,
     "metadata": {},
     "output_type": "execute_result"
    }
   ],
   "source": [
    "len(model.wv['hoje'])"
   ]
  },
  {
   "cell_type": "code",
   "execution_count": null,
   "metadata": {
    "collapsed": true
   },
   "outputs": [],
   "source": []
  },
  {
   "cell_type": "markdown",
   "metadata": {},
   "source": [
    "### Algumas funcionalidades do modelo:"
   ]
  },
  {
   "cell_type": "code",
   "execution_count": null,
   "metadata": {
    "collapsed": true
   },
   "outputs": [],
   "source": []
  },
  {
   "cell_type": "code",
   "execution_count": null,
   "metadata": {
    "collapsed": true
   },
   "outputs": [],
   "source": []
  },
  {
   "cell_type": "markdown",
   "metadata": {},
   "source": [
    "#### Teste de exclusão:"
   ]
  },
  {
   "cell_type": "code",
   "execution_count": 13,
   "metadata": {},
   "outputs": [
    {
     "name": "stderr",
     "output_type": "stream",
     "text": [
      "2018-06-19 14:48:58,500 : INFO : precomputing L2-norms of word weight vectors\n"
     ]
    },
    {
     "data": {
      "text/plain": [
       "'escola'"
      ]
     },
     "execution_count": 13,
     "metadata": {},
     "output_type": "execute_result"
    }
   ],
   "source": [
    "model.wv.doesnt_match(['bolsonaro', 'alckmin', 'meirelles', 'escola'])"
   ]
  },
  {
   "cell_type": "code",
   "execution_count": 14,
   "metadata": {},
   "outputs": [
    {
     "data": {
      "text/plain": [
       "'agua'"
      ]
     },
     "execution_count": 14,
     "metadata": {},
     "output_type": "execute_result"
    }
   ],
   "source": [
    "model.wv.doesnt_match(['pt', 'psdb', 'psol', 'agua'])"
   ]
  },
  {
   "cell_type": "code",
   "execution_count": null,
   "metadata": {
    "collapsed": true
   },
   "outputs": [],
   "source": []
  },
  {
   "cell_type": "markdown",
   "metadata": {},
   "source": [
    "#### Uma medida de similaridade usada nesse modelo é a chamada 'distância cosseno\", que mede o cosseno (-1 <= \\theta <= 1) ângulo entre os vetores representativos de duas palavras. "
   ]
  },
  {
   "cell_type": "code",
   "execution_count": 15,
   "metadata": {},
   "outputs": [
    {
     "data": {
      "text/plain": [
       "0.24582457729365989"
      ]
     },
     "execution_count": 15,
     "metadata": {},
     "output_type": "execute_result"
    }
   ],
   "source": [
    "model.wv.similarity('lula', 'preso')"
   ]
  },
  {
   "cell_type": "code",
   "execution_count": 16,
   "metadata": {},
   "outputs": [
    {
     "data": {
      "text/plain": [
       "0.47351032227227507"
      ]
     },
     "execution_count": 16,
     "metadata": {},
     "output_type": "execute_result"
    }
   ],
   "source": [
    "model.wv.similarity('alckmin', 'chuchu')"
   ]
  },
  {
   "cell_type": "code",
   "execution_count": 17,
   "metadata": {},
   "outputs": [
    {
     "data": {
      "text/plain": [
       "0.17267180246104841"
      ]
     },
     "execution_count": 17,
     "metadata": {},
     "output_type": "execute_result"
    }
   ],
   "source": [
    "model.wv.similarity('bolsonaro', 'bolsominion')"
   ]
  },
  {
   "cell_type": "code",
   "execution_count": 18,
   "metadata": {},
   "outputs": [
    {
     "data": {
      "text/plain": [
       "0.41318671036428045"
      ]
     },
     "execution_count": 18,
     "metadata": {},
     "output_type": "execute_result"
    }
   ],
   "source": [
    "model.wv.similarity('bolsonaro', 'bolsomito')"
   ]
  },
  {
   "cell_type": "code",
   "execution_count": null,
   "metadata": {
    "collapsed": true
   },
   "outputs": [],
   "source": []
  },
  {
   "cell_type": "code",
   "execution_count": null,
   "metadata": {
    "collapsed": true
   },
   "outputs": [],
   "source": []
  },
  {
   "cell_type": "code",
   "execution_count": null,
   "metadata": {
    "collapsed": true
   },
   "outputs": [],
   "source": []
  },
  {
   "cell_type": "markdown",
   "metadata": {},
   "source": [
    "#### Cadeia de relacionamento de palavras:"
   ]
  },
  {
   "cell_type": "code",
   "execution_count": null,
   "metadata": {
    "collapsed": true
   },
   "outputs": [],
   "source": []
  },
  {
   "cell_type": "code",
   "execution_count": 19,
   "metadata": {
    "scrolled": true
   },
   "outputs": [
    {
     "data": {
      "text/plain": [
       "[('michel', 0.6021250486373901),\n",
       " ('golpista', 0.5688670873641968),\n",
       " ('gov', 0.49301737546920776),\n",
       " ('@sbtpoderemfoco', 0.47007039189338684),\n",
       " ('continuem', 0.46847808361053467),\n",
       " ('vigorando', 0.4580209255218506),\n",
       " ('aecio', 0.43666720390319824),\n",
       " ('tomadas', 0.4363766312599182),\n",
       " ('falaciosa', 0.43453702330589294),\n",
       " ('gastou', 0.4244357943534851),\n",
       " ('aproximar', 0.42160287499427795),\n",
       " ('explicacoes', 0.4209892153739929),\n",
       " ('trapalhada', 0.4200715124607086),\n",
       " ('ilegitimo', 0.4154898226261139),\n",
       " ('expressa', 0.41325128078460693),\n",
       " ('neves', 0.4110766649246216),\n",
       " ('mereilles', 0.40755796432495117),\n",
       " ('votou', 0.4066756069660187),\n",
       " ('deslocar', 0.405309796333313),\n",
       " ('usurpador', 0.4043048322200775),\n",
       " ('@sbtonline', 0.40058815479278564),\n",
       " ('participa', 0.39894697070121765),\n",
       " ('votoram', 0.3909761905670166),\n",
       " ('juca', 0.3906457722187042),\n",
       " ('angora', 0.3892955780029297),\n",
       " ('milton', 0.38406601548194885),\n",
       " ('responsabil', 0.38283640146255493),\n",
       " ('quadrilha', 0.38068971037864685),\n",
       " ('contrariando', 0.378608375787735),\n",
       " ('romero', 0.37766048312187195),\n",
       " ('decorativo', 0.3771918714046478),\n",
       " ('decidiu', 0.37703007459640503),\n",
       " ('enhor', 0.37482839822769165),\n",
       " ('destruindo', 0.37381821870803833),\n",
       " ('entrevistados', 0.3721529543399811),\n",
       " ('seguido', 0.37182751297950745),\n",
       " ('assumiu', 0.37153106927871704),\n",
       " ('originalmente', 0.3691234290599823),\n",
       " ('vampiro', 0.3668116629123688),\n",
       " ('#boulosnajornal', 0.36321181058883667),\n",
       " ('mandados', 0.3628711402416229),\n",
       " ('@jornaldacbn', 0.36137717962265015),\n",
       " ('#poderemfoco', 0.3599100410938263),\n",
       " ('chefe', 0.35930168628692627),\n",
       " ('questionamento', 0.35845062136650085),\n",
       " ('assasinos', 0.3574824929237366),\n",
       " ('desgoverno', 0.35530152916908264),\n",
       " ('acabo', 0.35506671667099),\n",
       " ('afastamento', 0.35471558570861816),\n",
       " ('suspensao', 0.353218138217926)]"
      ]
     },
     "execution_count": 19,
     "metadata": {},
     "output_type": "execute_result"
    }
   ],
   "source": [
    "model.wv.most_similar('temer', topn=50)"
   ]
  },
  {
   "cell_type": "code",
   "execution_count": null,
   "metadata": {
    "collapsed": true
   },
   "outputs": [],
   "source": []
  },
  {
   "cell_type": "code",
   "execution_count": 20,
   "metadata": {
    "scrolled": true
   },
   "outputs": [
    {
     "data": {
      "text/plain": [
       "[('geraldo', 0.5428510308265686),\n",
       " ('liquidar', 0.5407915115356445),\n",
       " ('#alckmin', 0.5280708074569702),\n",
       " ('acabem', 0.49813008308410645),\n",
       " ('@psdb_sp', 0.4969092905521393),\n",
       " ('preparado', 0.4765546917915344),\n",
       " ('chuchu', 0.4735102653503418),\n",
       " ('huuum', 0.47116079926490784),\n",
       " ('`a', 0.46976932883262634),\n",
       " ('riachuelo', 0.4631747603416443),\n",
       " ('picole', 0.4623541235923767),\n",
       " ('direcionando', 0.4526686370372772),\n",
       " ('resolva', 0.44809749722480774),\n",
       " ('doria', 0.44219258427619934),\n",
       " ('reconhecer', 0.4375007748603821),\n",
       " ('alkimin', 0.431730717420578),\n",
       " ('xuxuzinho', 0.4312511086463928),\n",
       " ('curriculo', 0.4303780198097229),\n",
       " ('canditato', 0.42854043841362),\n",
       " ('@geraldofortte', 0.42792969942092896),\n",
       " ('folego', 0.4197582006454468),\n",
       " ('padrinho', 0.41736239194869995),\n",
       " ('flavio', 0.41714394092559814),\n",
       " ('alckmim', 0.41449394822120667),\n",
       " ('@rede45', 0.41428765654563904),\n",
       " ('cristovao', 0.4136123061180115),\n",
       " ('@viny_guedes', 0.40838000178337097),\n",
       " ('extrema', 0.4055040776729584),\n",
       " ('@lucianohang', 0.40523675084114075),\n",
       " ('@minas_25', 0.40501248836517334),\n",
       " ('#esquerda', 0.4038045406341553),\n",
       " ('inexpressiva', 0.39847782254219055),\n",
       " ('@geraldoalckmin', 0.3983960747718811),\n",
       " ('2o18', 0.3953438699245453),\n",
       " ('#picoledechuchu', 0.3950820863246918),\n",
       " ('quadro', 0.3950195014476776),\n",
       " ('disponibilizar', 0.39410820603370667),\n",
       " ('ciro', 0.38906195759773254),\n",
       " ('ameniza', 0.38715657591819763),\n",
       " ('@ihamma_1', 0.3868250250816345),\n",
       " ('cai', 0.3857477903366089),\n",
       " ('hahaha', 0.38570278882980347),\n",
       " ('conseguira', 0.3838588297367096),\n",
       " ('experiente', 0.383020281791687),\n",
       " ('cristovam', 0.38242942094802856),\n",
       " ('sr', 0.3814299702644348),\n",
       " ('esperar', 0.38095220923423767),\n",
       " ('@mprescinoti', 0.377231627702713),\n",
       " ('advinha', 0.37641388177871704),\n",
       " ('rincoes', 0.3737666606903076)]"
      ]
     },
     "execution_count": 20,
     "metadata": {},
     "output_type": "execute_result"
    }
   ],
   "source": [
    "model.wv.most_similar('alckmin', topn=50)"
   ]
  },
  {
   "cell_type": "code",
   "execution_count": null,
   "metadata": {
    "collapsed": true
   },
   "outputs": [],
   "source": []
  },
  {
   "cell_type": "code",
   "execution_count": 21,
   "metadata": {
    "scrolled": true
   },
   "outputs": [
    {
     "data": {
      "text/plain": [
       "[('lul', 0.4240921437740326),\n",
       " ('@lulapelobrasil', 0.41733014583587646),\n",
       " ('herzog', 0.37808889150619507),\n",
       " ('lulaaaaaa', 0.37666866183280945),\n",
       " ('colombia', 0.3635407090187073),\n",
       " ('reafirmou', 0.36166369915008545),\n",
       " ('apedeuta', 0.35343703627586365),\n",
       " ('vladimir', 0.3529011011123657),\n",
       " ('rousseff', 0.35270535945892334),\n",
       " ('ernesto', 0.35084789991378784),\n",
       " ('gleisi', 0.3418097198009491),\n",
       " ('antonio', 0.3407398462295532),\n",
       " ('chile', 0.338771790266037),\n",
       " ('permanencia', 0.3380662798881531),\n",
       " ('negado', 0.33582624793052673),\n",
       " ('grita', 0.3348233699798584),\n",
       " ('libro', 0.3336889147758484),\n",
       " ('holofotes', 0.32561779022216797),\n",
       " ('escribe', 0.32530951499938965),\n",
       " ('seguiu', 0.32492151856422424),\n",
       " ('apostila', 0.3245908319950104),\n",
       " ('manicomio', 0.3224946856498718),\n",
       " ('ivo', 0.3212164044380188),\n",
       " ('zapatero', 0.3193507492542267),\n",
       " ('over', 0.317632257938385),\n",
       " ('palloci', 0.3154866695404053),\n",
       " ('soportaron', 0.31465035676956177),\n",
       " ('leopoldo', 0.31348711252212524),\n",
       " ('samper', 0.31058061122894287),\n",
       " ('finalmente', 0.3098245859146118),\n",
       " ('mira', 0.3087712526321411),\n",
       " ('luladrao', 0.30751660466194153),\n",
       " ('mundiais', 0.3034045398235321),\n",
       " ('boubon', 0.30208703875541687),\n",
       " ('democratica', 0.3016139566898346),\n",
       " ('pruebas', 0.30049896240234375),\n",
       " ('injusta', 0.30014827847480774),\n",
       " ('conduzido', 0.29900139570236206),\n",
       " ('comparado', 0.2987491488456726),\n",
       " ('exigindo', 0.2980692982673645),\n",
       " ('impediu', 0.2967550754547119),\n",
       " ('feria', 0.2941633462905884),\n",
       " ('del', 0.2920578420162201),\n",
       " ('cachaceiro', 0.2910325527191162),\n",
       " ('adolfo', 0.2909354269504547),\n",
       " ('franklin', 0.29030054807662964),\n",
       " ('resistem', 0.28959330916404724),\n",
       " ('paso', 0.28937265276908875),\n",
       " ('humanitar', 0.28751811385154724),\n",
       " ('benedita', 0.2867703139781952)]"
      ]
     },
     "execution_count": 21,
     "metadata": {},
     "output_type": "execute_result"
    }
   ],
   "source": [
    "model.wv.most_similar('lula', topn=50)"
   ]
  },
  {
   "cell_type": "code",
   "execution_count": null,
   "metadata": {
    "collapsed": true
   },
   "outputs": [],
   "source": []
  },
  {
   "cell_type": "code",
   "execution_count": 22,
   "metadata": {
    "scrolled": true
   },
   "outputs": [
    {
     "data": {
      "text/plain": [
       "[('#bolsonaro', 0.5099406838417053),\n",
       " ('acostumando', 0.5087713003158569),\n",
       " ('@carlapola', 0.49670201539993286),\n",
       " ('bostonaro', 0.4409061074256897),\n",
       " ('#bolsonaro2018', 0.4282066822052002),\n",
       " ('messias', 0.4255157709121704),\n",
       " ('telegram', 0.41741943359375),\n",
       " ('bolsomito', 0.4131866693496704),\n",
       " ('mito', 0.4118116497993469),\n",
       " ('bomssonaro', 0.39233070611953735),\n",
       " ('debates', 0.3885233402252197),\n",
       " ('2026', 0.38145679235458374),\n",
       " ('mitologico', 0.3793773353099823),\n",
       " ('peco', 0.37688469886779785),\n",
       " ('compartilhar', 0.374633252620697),\n",
       " ('general', 0.37415748834609985),\n",
       " ('@benebarbosa_mvb', 0.3646883964538574),\n",
       " ('2degturno', 0.36165788769721985),\n",
       " ('#bolsonaro17', 0.3613806962966919),\n",
       " ('@shiwinha', 0.36072811484336853),\n",
       " ('capitao', 0.36049601435661316),\n",
       " ('histericos', 0.3534548580646515),\n",
       " ('1600', 0.35049909353256226),\n",
       " ('inelegivel', 0.3474888503551483),\n",
       " ('indigenistas', 0.3437880873680115),\n",
       " ('novembro', 0.3426845371723175),\n",
       " ('homofobico', 0.3410290479660034),\n",
       " ('gentalha', 0.3384009003639221),\n",
       " ('#somostodosrobos', 0.33720260858535767),\n",
       " ('senhor', 0.33560711145401),\n",
       " ('sr', 0.33471789956092834),\n",
       " ('misture', 0.3345785140991211),\n",
       " ('@jairbolsonaro', 0.33429497480392456),\n",
       " ('@bolsonarosp', 0.3342565894126892),\n",
       " ('magno', 0.32952263951301575),\n",
       " ('#bolsonaropresidente', 0.3290771245956421),\n",
       " ('@francischini_', 0.3289826512336731),\n",
       " ('@joelalexandrem', 0.3283681273460388),\n",
       " ('digo', 0.32811301946640015),\n",
       " ('#somostodosbolsonaro', 0.32733380794525146),\n",
       " ('monarquistas', 0.32603737711906433),\n",
       " ('torturador', 0.32501456141471863),\n",
       " ('englaterra', 0.3246665596961975),\n",
       " ('#moro', 0.32197749614715576),\n",
       " ('carreata', 0.32181355357170105),\n",
       " ('doque', 0.31994813680648804),\n",
       " ('bolsona', 0.319906085729599),\n",
       " ('@magnomalta', 0.31837204098701477),\n",
       " ('palavrinha', 0.31713759899139404),\n",
       " ('ning', 0.3165781497955322)]"
      ]
     },
     "execution_count": 22,
     "metadata": {},
     "output_type": "execute_result"
    }
   ],
   "source": [
    "model.wv.most_similar('bolsonaro', topn=50)"
   ]
  },
  {
   "cell_type": "code",
   "execution_count": null,
   "metadata": {
    "collapsed": true
   },
   "outputs": [],
   "source": []
  },
  {
   "cell_type": "code",
   "execution_count": 23,
   "metadata": {
    "scrolled": true
   },
   "outputs": [
    {
     "data": {
      "text/plain": [
       "[('gomes', 0.8797506093978882),\n",
       " ('corone', 0.6516728401184082),\n",
       " ('@cirogomes', 0.60825514793396),\n",
       " ('sequestraria', 0.5942318439483643),\n",
       " ('preparo', 0.5938652753829956),\n",
       " ('@todoscomciro', 0.5879994630813599),\n",
       " ('processou', 0.582062840461731),\n",
       " ('@ciro2018', 0.5807998776435852),\n",
       " ('preparado', 0.5682600736618042),\n",
       " ('@teamcirogomes', 0.566332995891571),\n",
       " ('firmeza', 0.5635039806365967),\n",
       " ('sardinha', 0.5618372559547424),\n",
       " ('#ciro2018', 0.5512775778770447),\n",
       " ('experiente', 0.5502850413322449),\n",
       " ('@agoracomdatena', 0.5489838719367981),\n",
       " ('@pdt_nacional', 0.5458654761314392),\n",
       " ('cirao', 0.540401041507721),\n",
       " ('cid', 0.5321828126907349),\n",
       " ('@cidgome', 0.5211411118507385),\n",
       " ('@dozepontozero', 0.5184266567230225),\n",
       " ('@redesciro', 0.5131506323814392),\n",
       " ('braba', 0.4948328137397766),\n",
       " ('escancarou', 0.49001383781433105),\n",
       " ('aaaah', 0.4871077537536621),\n",
       " ('dino', 0.48612818121910095),\n",
       " ('cangaceiro', 0.46890246868133545),\n",
       " ('limpa', 0.46358996629714966),\n",
       " ('responde', 0.46174538135528564),\n",
       " ('suja', 0.4414742887020111),\n",
       " ('ficha', 0.4401717782020569),\n",
       " ('pdt', 0.44010448455810547),\n",
       " ('trio', 0.43662896752357483),\n",
       " ('rebate', 0.43630295991897583),\n",
       " ('conversei', 0.4357527792453766),\n",
       " ('#ciraodamassa', 0.4349224269390106),\n",
       " ('henrique', 0.43129122257232666),\n",
       " ('urv', 0.42903703451156616),\n",
       " ('lacaio', 0.42451006174087524),\n",
       " ('@ciro_nogueira', 0.4193215072154999),\n",
       " ('formariam', 0.4185834228992462),\n",
       " ('experiencia', 0.4185601472854614),\n",
       " ('@vempramassa', 0.4174915552139282),\n",
       " ('coligar', 0.416892409324646),\n",
       " ('honestidade', 0.41374340653419495),\n",
       " ('pds', 0.4125635623931885),\n",
       " ('@haddad_fernando', 0.41009414196014404),\n",
       " ('quintela', 0.4095982313156128),\n",
       " ('milleo', 0.40951451659202576),\n",
       " ('2deg', 0.4035492241382599),\n",
       " ('desigualdades', 0.4019564390182495)]"
      ]
     },
     "execution_count": 23,
     "metadata": {},
     "output_type": "execute_result"
    }
   ],
   "source": [
    "model.wv.most_similar('ciro', topn=50)"
   ]
  },
  {
   "cell_type": "code",
   "execution_count": null,
   "metadata": {
    "collapsed": true
   },
   "outputs": [],
   "source": []
  },
  {
   "cell_type": "code",
   "execution_count": 24,
   "metadata": {
    "scrolled": true
   },
   "outputs": [
    {
     "data": {
      "text/plain": [
       "[('guilherme', 0.5801704525947571),\n",
       " ('@dcm_online', 0.5345811247825623),\n",
       " ('@marcelofreixo', 0.5331452488899231),\n",
       " ('buolos', 0.531130313873291),\n",
       " ('szermeta', 0.5209436416625977),\n",
       " ('@guilhermeboulos', 0.5133612155914307),\n",
       " ('terrorista', 0.5106656551361084),\n",
       " ('@midianinja', 0.508215069770813),\n",
       " ('invasao', 0.5074001550674438),\n",
       " ('rodaviva', 0.5038745999336243),\n",
       " ('fecal', 0.4992664158344269),\n",
       " ('descupado', 0.499028742313385),\n",
       " ('coordenadora', 0.49418434500694275),\n",
       " ('imperdivel', 0.4937424957752228),\n",
       " ('@psolnacamara', 0.48992615938186646),\n",
       " ('invasoes', 0.4873996078968048),\n",
       " ('natalia', 0.4869404733181),\n",
       " ('invade', 0.4859047532081604),\n",
       " ('@psol50', 0.4850083589553833),\n",
       " ('@socialistiphone', 0.48296108841896057),\n",
       " ('milicia', 0.4827256202697754),\n",
       " ('circularam', 0.4824174642562866),\n",
       " ('coordena', 0.47972995042800903),\n",
       " ('invasor', 0.47948968410491943),\n",
       " ('rubens', 0.47772711515426636),\n",
       " ('corretor', 0.47633591294288635),\n",
       " ('@mtst_', 0.47567644715309143),\n",
       " ('boubos', 0.469474196434021),\n",
       " ('ramificacao', 0.46643558144569397),\n",
       " ('@jeanwyllys_real', 0.4570743441581726),\n",
       " ('miliciano', 0.4559031128883362),\n",
       " ('sampa', 0.4535200893878937),\n",
       " ('cnpj', 0.4525688588619232),\n",
       " ('bolo', 0.45035868883132935),\n",
       " ('coordenador', 0.4460446834564209),\n",
       " ('replies', 0.44577476382255554),\n",
       " ('gigolo', 0.44522911310195923),\n",
       " ('lideres', 0.4445575773715973),\n",
       " ('incentiva', 0.4418625235557556),\n",
       " ('lacaio', 0.44176119565963745),\n",
       " ('organiza', 0.4389140009880066),\n",
       " ('incentivou', 0.43763071298599243),\n",
       " ('boulo', 0.4344628155231476),\n",
       " ('@psoloficial', 0.43318620324134827),\n",
       " ('invasores', 0.4326849579811096),\n",
       " ('extremista', 0.43236011266708374),\n",
       " ('cobrava', 0.4301314353942871),\n",
       " ('@claudiaborin', 0.42845627665519714),\n",
       " ('citar', 0.4252723753452301),\n",
       " ('msts', 0.42417192459106445)]"
      ]
     },
     "execution_count": 24,
     "metadata": {},
     "output_type": "execute_result"
    }
   ],
   "source": [
    "model.wv.most_similar('boulos', topn=50)"
   ]
  },
  {
   "cell_type": "code",
   "execution_count": null,
   "metadata": {
    "collapsed": true
   },
   "outputs": [],
   "source": []
  },
  {
   "cell_type": "code",
   "execution_count": 25,
   "metadata": {
    "scrolled": true
   },
   "outputs": [
    {
     "data": {
      "text/plain": [
       "[('manchete', 0.7307953834533691),\n",
       " ('gozara', 0.6782742738723755),\n",
       " ('meireles', 0.6609603762626648),\n",
       " ('tranquila', 0.6430083513259888),\n",
       " ('henrique', 0.5135512948036194),\n",
       " ('eventualmente', 0.5124339461326599),\n",
       " ('@rosamariaferr10', 0.5090421438217163),\n",
       " ('@reutersbrazil', 0.4997527599334717),\n",
       " ('vigil', 0.496512234210968),\n",
       " ('mantega', 0.4916174113750458),\n",
       " ('@ddpiresmont', 0.4887569546699524),\n",
       " ('monetarista', 0.48609039187431335),\n",
       " ('excepcional', 0.4693782329559326),\n",
       " ('electa', 0.4653531610965729),\n",
       " ('insana', 0.45815137028694153),\n",
       " ('#meirellesomaiscompetente', 0.4555507302284241),\n",
       " ('grafico', 0.45195871591567993),\n",
       " ('calhar', 0.4496922194957733),\n",
       " ('#chamaomeirelles', 0.4427326023578644),\n",
       " ('monarquista', 0.44171813130378723),\n",
       " ('equilibrada', 0.4391976594924927),\n",
       " ('consciencia', 0.43914830684661865),\n",
       " ('dialoga', 0.43907561898231506),\n",
       " ('#henriquemeirellespresidente', 0.43589961528778076),\n",
       " ('iluminaram', 0.4340958595275879),\n",
       " ('outra', 0.42986994981765747),\n",
       " ('fechada', 0.42867282032966614),\n",
       " ('@acordouacordou', 0.4258747696876526),\n",
       " ('escolhida', 0.4202720522880554),\n",
       " ('@meirelles', 0.41894257068634033),\n",
       " ('implementando', 0.4180850386619568),\n",
       " ('zambelli', 0.4178379476070404),\n",
       " ('problemas', 0.41693371534347534),\n",
       " ('dura', 0.41432440280914307),\n",
       " ('@dawkinsrush', 0.40364301204681396),\n",
       " ('avante', 0.4030413031578064),\n",
       " ('desenvolvida', 0.4028034806251526),\n",
       " ('@emb_resistencia', 0.40247076749801636),\n",
       " ('destruiu', 0.4009167551994324),\n",
       " ('economista', 0.39884132146835327),\n",
       " ('chegasse', 0.3980579972267151),\n",
       " ('radicalismo', 0.3971879482269287),\n",
       " ('#meirelles2018', 0.39622271060943604),\n",
       " ('barco', 0.39610418677330017),\n",
       " ('toc', 0.39367714524269104),\n",
       " ('decorativo', 0.3926294147968292),\n",
       " ('amada', 0.39075231552124023),\n",
       " ('querida', 0.3906416594982147),\n",
       " ('mentecapta', 0.38684019446372986),\n",
       " ('@_clacso', 0.3846524953842163)]"
      ]
     },
     "execution_count": 25,
     "metadata": {},
     "output_type": "execute_result"
    }
   ],
   "source": [
    "model.wv.most_similar('meirelles', topn=50)"
   ]
  },
  {
   "cell_type": "code",
   "execution_count": null,
   "metadata": {
    "collapsed": true
   },
   "outputs": [],
   "source": []
  },
  {
   "cell_type": "code",
   "execution_count": 26,
   "metadata": {
    "scrolled": true
   },
   "outputs": [
    {
     "data": {
      "text/plain": [
       "[('ae', 0.5697661638259888),\n",
       " ('hahaha', 0.5677896738052368),\n",
       " ('ei', 0.5477039813995361),\n",
       " ('oportunista', 0.5429314970970154),\n",
       " ('chuchu', 0.5394175052642822),\n",
       " ('coxinha', 0.5316594243049622),\n",
       " ('alkimin', 0.5239232778549194),\n",
       " ('chamar', 0.5135248899459839),\n",
       " ('provavelmente', 0.5117619633674622),\n",
       " ('mane', 0.511185884475708),\n",
       " ('esquerdismo', 0.5090739727020264),\n",
       " ('papinho', 0.5089859962463379),\n",
       " ('amoeba', 0.5076082348823547),\n",
       " ('sinceramente', 0.5062013864517212),\n",
       " ('kkkkkkkkkkkkk', 0.505184531211853),\n",
       " ('desculpa', 0.49856245517730713),\n",
       " ('putz', 0.49786433577537537),\n",
       " ('parceiro', 0.49740737676620483),\n",
       " ('vtnc', 0.49568459391593933),\n",
       " ('burra', 0.4943646192550659),\n",
       " ('meme', 0.49387985467910767),\n",
       " ('fracassado', 0.490468829870224),\n",
       " ('cristovao', 0.4898926019668579),\n",
       " ('repente', 0.4896661639213562),\n",
       " ('babaca', 0.4865577816963196),\n",
       " ('feio', 0.48511940240859985),\n",
       " ('olha', 0.4808487892150879),\n",
       " ('decepcao', 0.48049524426460266),\n",
       " ('chato', 0.47949182987213135),\n",
       " ('sujeito', 0.4779784679412842),\n",
       " ('riachuelo', 0.4750502109527588),\n",
       " ('@mavsampaio', 0.4720529019832611),\n",
       " ('pqp', 0.47112664580345154),\n",
       " ('membro', 0.47091788053512573),\n",
       " ('bicho', 0.47070983052253723),\n",
       " ('horrores', 0.46977680921554565),\n",
       " ('processa', 0.46955570578575134),\n",
       " ('boubos', 0.46895235776901245),\n",
       " ('geraldo', 0.4683222472667694),\n",
       " ('hein', 0.46691903471946716),\n",
       " ('haha', 0.46573325991630554),\n",
       " ('aff', 0.46510636806488037),\n",
       " ('cavalo', 0.4648590087890625),\n",
       " ('@mprescinoti', 0.46425050497055054),\n",
       " ('queima', 0.4641413688659668),\n",
       " ('bonita', 0.46375125646591187),\n",
       " ('candidatar', 0.4634283781051636),\n",
       " ('kkkkkkkkk', 0.4630160331726074),\n",
       " ('palhaco', 0.4627082943916321),\n",
       " ('naos', 0.4626515209674835)]"
      ]
     },
     "execution_count": 26,
     "metadata": {},
     "output_type": "execute_result"
    }
   ],
   "source": [
    "model.wv.most_similar('doria', topn=50)"
   ]
  },
  {
   "cell_type": "code",
   "execution_count": null,
   "metadata": {
    "collapsed": true
   },
   "outputs": [],
   "source": []
  }
 ],
 "metadata": {
  "anaconda-cloud": {},
  "kernelspec": {
   "display_name": "Python 2",
   "language": "python",
   "name": "python2"
  },
  "language_info": {
   "codemirror_mode": {
    "name": "ipython",
    "version": 2
   },
   "file_extension": ".py",
   "mimetype": "text/x-python",
   "name": "python",
   "nbconvert_exporter": "python",
   "pygments_lexer": "ipython2",
   "version": "2.7.14"
  }
 },
 "nbformat": 4,
 "nbformat_minor": 2
}
